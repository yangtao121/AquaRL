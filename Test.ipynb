{
 "cells": [
  {
   "cell_type": "markdown",
   "source": [
    "# SharePool test"
   ],
   "metadata": {
    "collapsed": false
   }
  },
  {
   "cell_type": "code",
   "execution_count": 1,
   "metadata": {
    "collapsed": true
   },
   "outputs": [
    {
     "name": "stderr",
     "output_type": "stream",
     "text": [
      "INFO:root:observation_buffer's shape:(200, 64, 64, 1)\n",
      "INFO:root:action_buffer's shape:(200, 3)\n"
     ]
    }
   ],
   "source": [
    "from AquaRL.pool.SharedPool import MainThreadSharaMemery\n",
    "\n",
    "shm_pool = MainThreadSharaMemery((64,64,1),3,200,'test1')\n",
    "shm_pool.pool_info()"
   ]
  },
  {
   "cell_type": "code",
   "execution_count": 3,
   "outputs": [
    {
     "name": "stdout",
     "output_type": "stream",
     "text": [
      "[1]\n"
     ]
    }
   ],
   "source": [
    "print(shm_pool.mask_buffer[49])"
   ],
   "metadata": {
    "collapsed": false,
    "pycharm": {
     "name": "#%%\n"
    }
   }
  }
 ],
 "metadata": {
  "kernelspec": {
   "display_name": "Python 3",
   "language": "python",
   "name": "python3"
  },
  "language_info": {
   "codemirror_mode": {
    "name": "ipython",
    "version": 2
   },
   "file_extension": ".py",
   "mimetype": "text/x-python",
   "name": "python",
   "nbconvert_exporter": "python",
   "pygments_lexer": "ipython2",
   "version": "2.7.6"
  }
 },
 "nbformat": 4,
 "nbformat_minor": 0
}